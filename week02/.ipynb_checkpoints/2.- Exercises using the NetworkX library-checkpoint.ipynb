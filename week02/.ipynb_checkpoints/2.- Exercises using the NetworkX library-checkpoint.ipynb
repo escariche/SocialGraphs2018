{
 "cells": [
  {
   "cell_type": "markdown",
   "metadata": {},
   "source": [
    "#### Königsberg Problem\n",
    "Which of the icons in Image 2.19 can be drawn without raising your pencil from the paper, and without drawing any line more than once? Why?\n",
    "- According to Euler, a node with an uneven number of links is either a starting-point or an end-point.\n",
    "    - a. Half of the nodes have an even number of links, so it can be drawn drawing without raising the pen.\n",
    "    - b. The four nodes have three (uneven) links. Therefore it is impossible. \n",
    "    - c. Considering the six intersections of the two triangles componing the Star of David as nodes, it is feasable since all the nodes have an even number of links: 4 links the interior nodes and 2 the exterior (peaks of the star).   \n",
    "    - d. There is only 2 nodes with an uneven number of links, therefore if can be done.\n",
    "\n",
    "\n",
    "#### Exercise 2.3: Graph representation"
   ]
  },
  {
   "cell_type": "markdown",
   "metadata": {},
   "source": [
    "1. Undirected graph of 6 nodes and 7 links."
   ]
  },
  {
   "cell_type": "code",
   "execution_count": 123,
   "metadata": {},
   "outputs": [],
   "source": [
    "import networkx as nx\n",
    "\n",
    "graphA = nx.Graph()\n",
    "for i in range (1,7):\n",
    "    graphA.add_node(i)\n",
    "for i in (2, 3, 4, 6):\n",
    "    graphA.add_edge(1, i)\n",
    "for i in (1, 3, 4):\n",
    "    graphA.add_edge(2, i)\n",
    "for i in (1, 2, 6):\n",
    "    graphA.add_edge(3, i)\n",
    "for i in (1, 2):\n",
    "    graphA.add_edge(4, i)\n",
    "for i in (1, 3):\n",
    "    graphA.add_edge(6, i)"
   ]
  },
  {
   "cell_type": "markdown",
   "metadata": {},
   "source": [
    "2. Directed graph of 6 nodes and 8 directed links."
   ]
  },
  {
   "cell_type": "code",
   "execution_count": 130,
   "metadata": {},
   "outputs": [],
   "source": [
    "graphB = nx.DiGraph()\n",
    "graphB.add_edges_from([(1,2), (2,3), (2,4), (3, 2), (3, 1), (4, 1), (6, 1), (6, 3)])"
   ]
  },
  {
   "cell_type": "markdown",
   "metadata": {},
   "source": [
    "3. The corresponding adjacency matrices."
   ]
  },
  {
   "cell_type": "code",
   "execution_count": 129,
   "metadata": {},
   "outputs": [
    {
     "name": "stdout",
     "output_type": "stream",
     "text": [
      "[[0 1 1 1 0 1]\n",
      " [1 0 1 1 0 0]\n",
      " [1 1 0 0 0 1]\n",
      " [1 1 0 0 0 0]\n",
      " [0 0 0 0 0 0]\n",
      " [1 0 1 0 0 0]] A\n",
      "[[0 1 0 0 0]\n",
      " [0 0 1 1 0]\n",
      " [1 1 0 0 0]\n",
      " [1 0 0 0 0]\n",
      " [1 0 1 0 0]] B\n"
     ]
    }
   ],
   "source": [
    "A = nx.adjacency_matrix(graphA)\n",
    "print(A.todense(), 'A')\n",
    "\n",
    "B = nx.adjacency_matrix(graphB)\n",
    "print(B.todense(), 'B')"
   ]
  },
  {
   "cell_type": "markdown",
   "metadata": {},
   "source": [
    "3. The corresponding link lists."
   ]
  },
  {
   "cell_type": "code",
   "execution_count": 133,
   "metadata": {},
   "outputs": [
    {
     "name": "stdout",
     "output_type": "stream",
     "text": [
      "{1: {2: {}, 3: {}, 4: {}, 6: {}}, 2: {1: {}, 3: {}, 4: {}}, 3: {1: {}, 2: {}, 6: {}}, 4: {1: {}, 2: {}}, 5: {}, 6: {1: {}, 3: {}}} \n",
      "\n",
      "{1: {2: {}}, 2: {3: {}, 4: {}}, 3: {2: {}, 1: {}}, 4: {1: {}}, 6: {1: {}, 3: {}}}\n"
     ]
    }
   ],
   "source": [
    "print(graphA.adj, '\\n')\n",
    "print(graphB.adj)"
   ]
  },
  {
   "cell_type": "markdown",
   "metadata": {},
   "source": [
    "Determine the average clustering coefficient of the network shown in Image 2.20a\n",
    "If you switch the labels of nodes 5 and 6 in Image 2.20a, how does that move change the adjacency matrix? And the link list?\n",
    "What kind of information can you not infer from the link list representation of the network that you can infer from the adjacency matrix?\n",
    "In the (a) network, how many paths (with possible repetition of nodes and links) of length 3 exist starting from node 1 and ending at node 3? And in (b)?\n",
    "\n",
    "#### Exercise 2.5: Bipartite Networks"
   ]
  },
  {
   "cell_type": "code",
   "execution_count": null,
   "metadata": {},
   "outputs": [],
   "source": []
  }
 ],
 "metadata": {
  "kernelspec": {
   "display_name": "Python 3",
   "language": "python",
   "name": "python3"
  },
  "language_info": {
   "codemirror_mode": {
    "name": "ipython",
    "version": 3
   },
   "file_extension": ".py",
   "mimetype": "text/x-python",
   "name": "python",
   "nbconvert_exporter": "python",
   "pygments_lexer": "ipython3",
   "version": "3.6.5"
  }
 },
 "nbformat": 4,
 "nbformat_minor": 2
}
