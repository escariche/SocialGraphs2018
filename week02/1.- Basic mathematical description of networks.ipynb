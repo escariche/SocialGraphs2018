{
 "cells": [
  {
   "cell_type": "markdown",
   "metadata": {},
   "source": [
    "# Part 1\n",
    "## Exercises\n",
    "### Chapter 1\n",
    "\n",
    "List three different real networks and state the nodes and links for each of them.\n",
    "\n",
    "- Communication networks.\n",
    "    - Nodes: communication devices\n",
    "    - Links: interactions between these devices. Interactions can be either wireless or wired links.\n",
    "- The power grid.\n",
    "     - Nodes: power generators, suppliers and consumers (street lights, homes, factories, ...).\n",
    "     - Links: transmission lines.\n",
    "- Trade networks.\n",
    "    - Nodes: individual, businesses or any agent involved in an economical transaction.\n",
    "    - Links: exchange of goods and services between individual and businesses.\n",
    "\n",
    "Tell us of the network you are personally most interested in. Address the following questions:\n",
    "What are its nodes and links?\n",
    "How large is it?\n",
    "Can be mapped out?\n",
    "Why do you care about it?\n",
    "\n",
    "- The network I am most interested in is the communication network, although it's worth mentioning that the power grid is a support for it. Nodes in this network are computers, routers, mobile phones, landphones, ... virtually any device that can communicate with another. The connections between devices are the links in this network.\n",
    "- It is probably the largest network in the (macroscopic) world.\n",
    "- It can be mapped out easily since for the network to accomplish the communication, there is already a record of connections in the devices. E.g., routing tables.\n",
    "- I am personally fascinated in the power of telecommunication techonologies despite my field of studies is Telecommunication Engineering and I understand all the physics and protocols underneath it. Using this network, humans are able to communicate with their beloved ones from the remotest places in Planet Earth (and even outer space). That simple fact is the one that motivates me to deepen in it.\n",
    "\n",
    "In your view what would be the area where network science could have the biggest impact in the next decade? Explain your answer - and base it on the text in the book.\n",
    "- Both society and science will be hugely enriched thanks to the study and comprehension of networks. In my view, the biggest impact will come in neurology, and medicine in general. Thanks to the advances in techonology and exploiting network analysis solutions for mental diseases or cancer may be found.\n",
    "\n",
    "\n",
    "### Chapter 2\n",
    "\n",
    "Section 2.5 states that real networks are sparse. Can you think of a real network where each node has many connections? Is that network still sparse? If yes, can you explain why?\n",
    "- The internet (backhaul and core network) has many connections but is still sparse. The reason why is the cost of deployment of infrastructure. With a smaller number of links we can get to connect all the endpoints by including a logical layer providing direct connections that in the actual network have many hops in between the two points that are connecting.\n",
    "\n",
    "#### Königsberg Problem\n",
    "\n",
    "##### Königsberg Problem\n",
    "Which of the icons in Image 2.19 can be drawn without raising your pencil from the paper, and without drawing any line more than once? Why?\n",
    "- According to Euler, a node with an uneven number of links is either a starting-point or an end-point.\n",
    "    - a. Half of the nodes have an even number of links, so it can be drawn drawing without raising the pen.\n",
    "    - b. The four nodes have three (uneven) links. Therefore it is impossible. \n",
    "    - c. Considering the six intersections of the two triangles componing the Star of David as nodes, it is feasable since all the nodes have an even number of links: 4 links the interior nodes and 2 the exterior (peaks of the star).   \n",
    "    - d. There is only 2 nodes with an uneven number of links, therefore if can be done.\n",
    "\n",
    "##### Matrix Formalism\n",
    "Let A be the NxN adjacency matrix of an undirected unweighted network, without self-loops. Let 1 be a column vector of N elements, all equal to 1. In other words 1 = (1, 1, ..., 1)T , where the superscript T indicates the transpose operation. Use the matrix formalism (multiplicative constants, multiplication row by column, matrix operations like transpose and trace, etc, but avoid the sum symbol Σ) to write expressions for:\n",
    "\n",
    "- The vector k whose elements are the degrees ki of all nodes i = 1, 2,..., N.\n",
    "    math(=)\n",
    "- The total number of links, L, in the network.\n",
    "- The number of triangles T present in the network, where a triangle means three nodes, each connected by links to the other two (Hint: you can use the trace of a matrix).\n",
    "- The vector knn whose element i is the sum of the degrees of node i's neighbors.\n",
    "- The vector knnn whose element i is the sum of the degrees of node i's second neighbors.\n",
    "\n",
    "##### Graph Representation\n",
    "The adjacency matrix is a useful graph representation for many analytical calculations. However, when we need to store a network in a computer, we can save computer memory by offering the list of links in a Lx2 matrix, whose rows contain the starting and end point i and j of each link. Construct for the networks (a) and (b) in Imade 2.20:"
   ]
  },
  {
   "cell_type": "code",
   "execution_count": null,
   "metadata": {},
   "outputs": [],
   "source": []
  }
 ],
 "metadata": {
  "kernelspec": {
   "display_name": "Python 3",
   "language": "python",
   "name": "python3"
  },
  "language_info": {
   "codemirror_mode": {
    "name": "ipython",
    "version": 3
   },
   "file_extension": ".py",
   "mimetype": "text/x-python",
   "name": "python",
   "nbconvert_exporter": "python",
   "pygments_lexer": "ipython3",
   "version": "3.6.5"
  }
 },
 "nbformat": 4,
 "nbformat_minor": 2
}
