{
 "cells": [
  {
   "cell_type": "markdown",
   "metadata": {},
   "source": [
    "#### Königsberg Problem\n",
    "Which of the icons in Image 2.19 can be drawn without raising your pencil from the paper, and without drawing any line more than once? Why?\n",
    "- According to Euler, a node with an uneven number of links is either a starting-point or an end-point.\n",
    "    - a. Half of the nodes have an even number of links, so it can be drawn drawing without raising the pen.\n",
    "    - b. The four nodes have three (uneven) links. Therefore it is impossible. \n",
    "    - c. Considering the six intersections of the two triangles componing the Star of David as nodes, it is feasable since all the nodes have an even number of links: 4 links the interior nodes and 2 the exterior (peaks of the star).   \n",
    "    - d. There is only 2 nodes with an uneven number of links, therefore if can be done.\n",
    "\n",
    "\n",
    "#### Exercise 2.3: Graph representation"
   ]
  },
  {
   "cell_type": "markdown",
   "metadata": {},
   "source": [
    "1. Undirected graph of 6 nodes and 7 links."
   ]
  },
  {
   "cell_type": "code",
   "execution_count": 123,
   "metadata": {},
   "outputs": [],
   "source": [
    "import networkx as nx\n",
    "\n",
    "graphA = nx.Graph()\n",
    "for i in range (1,7):\n",
    "    graphA.add_node(i)\n",
    "for i in (2, 3, 4, 6):\n",
    "    graphA.add_edge(1, i)\n",
    "for i in (1, 3, 4):\n",
    "    graphA.add_edge(2, i)\n",
    "for i in (1, 2, 6):\n",
    "    graphA.add_edge(3, i)\n",
    "for i in (1, 2):\n",
    "    graphA.add_edge(4, i)\n",
    "for i in (1, 3):\n",
    "    graphA.add_edge(6, i)"
   ]
  },
  {
   "cell_type": "markdown",
   "metadata": {},
   "source": [
    "2. Directed graph of 6 nodes and 8 directed links."
   ]
  },
  {
   "cell_type": "code",
   "execution_count": 130,
   "metadata": {},
   "outputs": [],
   "source": [
    "graphB = nx.DiGraph()\n",
    "graphB.add_edges_from([(1,2), (2,3), (2,4), (3, 2), (3, 1), (4, 1), (6, 1), (6, 3)])"
   ]
  },
  {
   "cell_type": "markdown",
   "metadata": {},
   "source": [
    "3. The corresponding adjacency matrices."
   ]
  },
  {
   "cell_type": "code",
   "execution_count": 129,
   "metadata": {},
   "outputs": [
    {
     "name": "stdout",
     "output_type": "stream",
     "text": [
      "[[0 1 1 1 0 1]\n",
      " [1 0 1 1 0 0]\n",
      " [1 1 0 0 0 1]\n",
      " [1 1 0 0 0 0]\n",
      " [0 0 0 0 0 0]\n",
      " [1 0 1 0 0 0]] A\n",
      "[[0 1 0 0 0]\n",
      " [0 0 1 1 0]\n",
      " [1 1 0 0 0]\n",
      " [1 0 0 0 0]\n",
      " [1 0 1 0 0]] B\n"
     ]
    }
   ],
   "source": [
    "A = nx.adjacency_matrix(graphA)\n",
    "print(A.todense(), 'A')\n",
    "\n",
    "B = nx.adjacency_matrix(graphB)\n",
    "print(B.todense(), 'B')"
   ]
  },
  {
   "cell_type": "markdown",
   "metadata": {},
   "source": [
    "3. The corresponding link lists."
   ]
  },
  {
   "cell_type": "code",
   "execution_count": 284,
   "metadata": {},
   "outputs": [
    {
     "name": "stdout",
     "output_type": "stream",
     "text": [
      "{1: {2: {}, 3: {}, 4: {}, 6: {}}, 2: {1: {}, 3: {}, 4: {}}, 3: {1: {}, 2: {}, 6: {}}, 4: {1: {}, 2: {}}, 5: {}, 6: {1: {}, 3: {}}} \n",
      "\n",
      "{1: {2: {}}, 2: {3: {}, 4: {}}, 3: {2: {}, 1: {}}, 4: {1: {}}, 6: {1: {}, 3: {}}}\n"
     ]
    }
   ],
   "source": [
    "print(graphA.adj, '\\n')\n",
    "print(graphB.adj)"
   ]
  },
  {
   "cell_type": "markdown",
   "metadata": {},
   "source": [
    "4. Determine the average clustering coefficient of the network shown in Image 2.20a\n"
   ]
  },
  {
   "cell_type": "code",
   "execution_count": 159,
   "metadata": {},
   "outputs": [
    {
     "data": {
      "text/plain": [
       "0.6388888888888888"
      ]
     },
     "execution_count": 159,
     "metadata": {},
     "output_type": "execute_result"
    }
   ],
   "source": [
    "nx.average_clustering(graphA)"
   ]
  },
  {
   "cell_type": "markdown",
   "metadata": {},
   "source": [
    "5. If you switch the labels of nodes 5 and 6 in Image 2.20a, how does that move change the adjacency matrix? And the link list?\n",
    "\n",
    "Rows and columns 5 and 6 in the matrix would swap, and in the list every 6 will change into a 5, so the connections for 1 and 3 change."
   ]
  },
  {
   "cell_type": "markdown",
   "metadata": {},
   "source": [
    "6. What kind of information can you not infer from the link list representation of the network that you can infer from the adjacency matrix?\n",
    "\n",
    "    Reciprocity\n",
    "    \n",
    "\n",
    "7. In the (a) network, how many paths (with possible repetition of nodes and links) of length 3 exist starting from node 1 and ending at node 3? And in (b)?"
   ]
  },
  {
   "cell_type": "code",
   "execution_count": 3,
   "metadata": {},
   "outputs": [],
   "source": [
    "def findPaths(G,u,n):\n",
    "    if n==0:\n",
    "        return [[u]]\n",
    "    paths = [[u]+path for neighbor in G.neighbors(u) for path in findPaths(G,neighbor,n-1) if u not in path]\n",
    "    return paths\n",
    "\n",
    "def findTarget(paths, t):\n",
    "    options = 0\n",
    "    for p in paths:\n",
    "        if p[len(p)-1] == t:\n",
    "            options = options+1\n",
    "    return options"
   ]
  },
  {
   "cell_type": "code",
   "execution_count": 4,
   "metadata": {},
   "outputs": [
    {
     "ename": "NameError",
     "evalue": "name 'graphA' is not defined",
     "output_type": "error",
     "traceback": [
      "\u001b[0;31m---------------------------------------------------------------------------\u001b[0m",
      "\u001b[0;31mNameError\u001b[0m                                 Traceback (most recent call last)",
      "\u001b[0;32m<ipython-input-4-f946cfec2c08>\u001b[0m in \u001b[0;36m<module>\u001b[0;34m()\u001b[0m\n\u001b[0;32m----> 1\u001b[0;31m \u001b[0mprint\u001b[0m\u001b[0;34m(\u001b[0m\u001b[0;34m'Paths in A: '\u001b[0m\u001b[0;34m,\u001b[0m \u001b[0mfindTarget\u001b[0m\u001b[0;34m(\u001b[0m\u001b[0mfindPaths\u001b[0m\u001b[0;34m(\u001b[0m\u001b[0mgraphA\u001b[0m\u001b[0;34m,\u001b[0m \u001b[0;36m1\u001b[0m\u001b[0;34m,\u001b[0m \u001b[0;36m3\u001b[0m\u001b[0;34m)\u001b[0m\u001b[0;34m,\u001b[0m \u001b[0;36m3\u001b[0m\u001b[0;34m)\u001b[0m\u001b[0;34m)\u001b[0m\u001b[0;34m\u001b[0m\u001b[0m\n\u001b[0m\u001b[1;32m      2\u001b[0m \u001b[0mprint\u001b[0m\u001b[0;34m(\u001b[0m\u001b[0;34m'Paths in B: '\u001b[0m\u001b[0;34m,\u001b[0m \u001b[0mfindTarget\u001b[0m\u001b[0;34m(\u001b[0m\u001b[0mfindPaths\u001b[0m\u001b[0;34m(\u001b[0m\u001b[0mgraphB\u001b[0m\u001b[0;34m,\u001b[0m \u001b[0;36m1\u001b[0m\u001b[0;34m,\u001b[0m \u001b[0;36m3\u001b[0m\u001b[0;34m)\u001b[0m\u001b[0;34m,\u001b[0m \u001b[0;36m3\u001b[0m\u001b[0;34m)\u001b[0m\u001b[0;34m)\u001b[0m\u001b[0;34m\u001b[0m\u001b[0m\n",
      "\u001b[0;31mNameError\u001b[0m: name 'graphA' is not defined"
     ]
    }
   ],
   "source": [
    "print('Paths in A: ', findTarget(findPaths(graphA, 1, 3), 3))\n",
    "print('Paths in B: ', findTarget(findPaths(graphB, 1, 3), 3))"
   ]
  },
  {
   "cell_type": "markdown",
   "metadata": {},
   "source": [
    "#### Exercise 2.5: Bipartite Networks\n",
    "Construct its adjacency matrix. Why is it a block-diagonal matrix?\n",
    "- Because there are no connections between nodes of the same side."
   ]
  },
  {
   "cell_type": "code",
   "execution_count": 6,
   "metadata": {},
   "outputs": [
    {
     "name": "stdout",
     "output_type": "stream",
     "text": [
      "[[0 0 0 0 0 0 1 0 0 0 0]\n",
      " [0 0 0 0 0 0 0 0 1 0 0]\n",
      " [0 0 0 0 0 0 1 1 1 0 0]\n",
      " [0 0 0 0 0 0 0 0 1 1 0]\n",
      " [0 0 0 0 0 0 0 0 1 0 1]\n",
      " [0 0 0 0 0 0 0 0 0 0 1]\n",
      " [1 0 1 0 0 0 0 0 0 0 0]\n",
      " [0 0 1 0 0 0 0 0 0 0 0]\n",
      " [0 1 1 1 1 0 0 0 0 0 0]\n",
      " [0 0 0 1 0 0 0 0 0 0 0]\n",
      " [0 0 0 0 1 1 0 0 0 0 0]]\n"
     ]
    },
    {
     "data": {
      "text/plain": [
       "True"
      ]
     },
     "execution_count": 6,
     "metadata": {},
     "output_type": "execute_result"
    }
   ],
   "source": [
    "import networkx as nx\n",
    "from networkx.algorithms import bipartite\n",
    "bip = nx.Graph()\n",
    "U = [1,2,3,4,5,6] #purple nodes\n",
    "V = [7,8,9,10,11] #green nodes\n",
    "bip.add_nodes_from(U, bipartite='0')\n",
    "bip.add_nodes_from(V, bipartite='1')\n",
    "bip.add_edges_from([(1,7),(2,9),(3,7),(3,8), (3,9), (4,9), (4,10), (5,9), (5,11), (6,11)])\n",
    "BIP = nx.adjacency_matrix(bip)\n",
    "print(BIP.todense())\n",
    "nx.is_bipartite(bip)"
   ]
  },
  {
   "cell_type": "markdown",
   "metadata": {},
   "source": [
    "Construct the adjacency matrix of its two projections, on the purple and on the green nodes, respectively.\n",
    "Calculate the average degree of the purple nodes and the average degree of the green nodes in the bipartite network.\n",
    "Calculate the average degree in each of the two network projections. Is it surprising that the values are different from those obtained in point (c)?"
   ]
  },
  {
   "cell_type": "code",
   "execution_count": 7,
   "metadata": {
    "scrolled": true
   },
   "outputs": [
    {
     "name": "stdout",
     "output_type": "stream",
     "text": [
      "[[0 0 1 0 0 0]\n",
      " [0 0 1 1 1 0]\n",
      " [1 1 0 1 1 0]\n",
      " [0 1 1 0 1 0]\n",
      " [0 1 1 1 0 1]\n",
      " [0 0 0 0 1 0]]\n"
     ]
    }
   ],
   "source": [
    "Uproj = nx.projected_graph(bip, U)\n",
    "UprojBIP = nx.adj_matrix(Uproj)\n",
    "print(UprojBIP.todense())"
   ]
  },
  {
   "cell_type": "code",
   "execution_count": 8,
   "metadata": {},
   "outputs": [
    {
     "name": "stdout",
     "output_type": "stream",
     "text": [
      "[[0 1 1 0 0]\n",
      " [1 0 1 0 0]\n",
      " [1 1 0 1 1]\n",
      " [0 0 1 0 0]\n",
      " [0 0 1 0 0]]\n"
     ]
    }
   ],
   "source": [
    "Vproj = nx.projected_graph(bip, V)\n",
    "VprojBIP = nx.adj_matrix(Vproj)\n",
    "print(VprojBIP.todense())"
   ]
  },
  {
   "cell_type": "code",
   "execution_count": 10,
   "metadata": {},
   "outputs": [
    {
     "name": "stdout",
     "output_type": "stream",
     "text": [
      "{1: 4.0, 2: 3.6666666666666665, 3: 2.75, 4: 3.6666666666666665, 5: 2.75, 6: 4.0}\n",
      "{7: 3.0, 8: 3.0, 9: 1.5, 10: 4.0, 11: 4.0}\n",
      "[(1, 1), (2, 1), (3, 3), (4, 2), (5, 2), (6, 1)]\n",
      "[(7, 2), (8, 1), (9, 4), (10, 1), (11, 2)]\n"
     ]
    }
   ],
   "source": [
    "def avg_neigh_degree(g):\n",
    "     return dict((n,float(sum(g.degree(i) for i in g[n]))/g.degree(n))  for n in g.nodes() if g.degree(n))\n",
    "print(avg_neigh_degree(Uproj))\n",
    "print(avg_neigh_degree(Vproj))\n",
    "print(nx.degree(bip, U))\n",
    "print(nx.degree(bip, V))"
   ]
  },
  {
   "cell_type": "markdown",
   "metadata": {},
   "source": [
    "It is not very surprising considering that in the projections, the links to the opposite subgroup are considered 'half'-hops, meaning that the hop to a node in the opposite subgroup is not counted."
   ]
  },
  {
   "cell_type": "code",
   "execution_count": null,
   "metadata": {},
   "outputs": [],
   "source": []
  }
 ],
 "metadata": {
  "kernelspec": {
   "display_name": "Python 3",
   "language": "python",
   "name": "python3"
  },
  "language_info": {
   "codemirror_mode": {
    "name": "ipython",
    "version": 3
   },
   "file_extension": ".py",
   "mimetype": "text/x-python",
   "name": "python",
   "nbconvert_exporter": "python",
   "pygments_lexer": "ipython3",
   "version": "3.6.5"
  }
 },
 "nbformat": 4,
 "nbformat_minor": 2
}
