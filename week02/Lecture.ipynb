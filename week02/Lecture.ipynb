{
 "cells": [
  {
   "cell_type": "markdown",
   "metadata": {},
   "source": [
    "# Lecture 2\n",
    "\n",
    "Read chapter 1 and 2. Book: http://networksciencebook.com\n",
    "\n",
    "### Euler: Solving roundtrips in networks\n",
    "A node with an uneven number of edges has to be either a starting or end-point.\n",
    "\n",
    "If we have more than one node with uneven edges hence it simply can not be done.\n",
    "\n",
    "Netorks are used in a very large list of fields, such as technology, sociology (sociograms), or biology.\n",
    "\n",
    "### Network notation\n",
    "- Edgelist: we will consider unweighted and undirected (it's a two way connection). Although in real life, nodes can have directed links (e.g., Twitter followers). If two nodes are connected, they should be written one next to another.\n",
    "\n",
    "1-2\n",
    "\n",
    "1-3\n",
    "\n",
    "3-2\n",
    "\n",
    "- Adjacency matrix: same as edge list, but the matriz will use a 1 for connections and 0 if the nodes are not connected.\n",
    "\n",
    "   \n",
    "1 [011]\n",
    "\n",
    "2 [101]\n",
    "\n",
    "3 [110]"
   ]
  },
  {
   "cell_type": "markdown",
   "metadata": {},
   "source": []
  },
  {
   "cell_type": "code",
   "execution_count": null,
   "metadata": {},
   "outputs": [],
   "source": []
  }
 ],
 "metadata": {
  "kernelspec": {
   "display_name": "Python 3",
   "language": "python",
   "name": "python3"
  },
  "language_info": {
   "codemirror_mode": {
    "name": "ipython",
    "version": 3
   },
   "file_extension": ".py",
   "mimetype": "text/x-python",
   "name": "python",
   "nbconvert_exporter": "python",
   "pygments_lexer": "ipython3",
   "version": "3.6.5"
  }
 },
 "nbformat": 4,
 "nbformat_minor": 2
}
