{
 "cells": [
  {
   "cell_type": "markdown",
   "metadata": {},
   "source": [
    "# Part 1: Small world networks\n",
    "\n",
    "#### Reading: Chapter 3, emphasis on 3.8 and 3.9.\n",
    "\n",
    "#### Exercises:\n",
    "\n",
    "Did you really read the text? Answer the following questions (no calculations needed) in your IPython notebook.\n",
    "\n",
    "* What's the problem with random networks as a model for real-world networks according to the argument in section 3.5 (near the end)?\n",
    "    - In random networks there might be an extremely connected node and a node that is left behind with just a few connections. In real-world networks people deviation from the least and most connected people is notably smaller than in a random network. $σ_k = ‹k›^{1/2}.$\n",
    "\n",
    "* List the four regimes that characterize random networks as a function of ⟨k⟩\n",
    "    - Subcritical, $0 < <k> < 1$\n",
    "    - Critical, $<k> = 1$\n",
    "    - Supercritical, $ <k> > 1$\n",
    "    - Connected, $ <k> > ln(N)$\n",
    "\n",
    "* According to the book, why is it a problem for random networks (in terms of being a model for real-world networks) that the degree-dependent clustering C(k) decreases as a function of k in real-world networks?\n",
    "    - Random network model does not capture the clustering of real networks. Real networks have a much higher clustering coefficient than a random network of similar N and L.\n",
    "    \n",
    "The next set of exercises departs from the book by presenting a little study of the Watts-Strogatz (WS) model. We're going to see just how few random links the WS model needs to dramatically shorten the path-lengths in the network. And while doing that, we'll practice using networkx, writing loops, and plotting nice figures.\n",
    "\n",
    "#### Exercises: WS edition.\n",
    "\n",
    "First, let's use networkx to play around with WS graphs. Use nx.watts_strogatz_graph to generate 3 graphs with 500 nodes each, average degree = 4, and rewiring probablity $p=0, 0.1, and 1$.\n",
    "- Calculate the average shortest path length ⟨d⟩ for each one. Describe what happens to the network when p=1."
   ]
  },
  {
   "cell_type": "code",
   "execution_count": 1,
   "metadata": {},
   "outputs": [],
   "source": [
    "import networkx as nx"
   ]
  },
  {
   "cell_type": "code",
   "execution_count": 2,
   "metadata": {},
   "outputs": [],
   "source": [
    "WS_0 = nx.watts_strogatz_graph(500, 4, 0)\n",
    "WS_1 = nx.watts_strogatz_graph(500, 4, 0.1)\n",
    "WS_2 = nx.watts_strogatz_graph(500, 4, 1)"
   ]
  },
  {
   "cell_type": "code",
   "execution_count": 11,
   "metadata": {},
   "outputs": [
    {
     "name": "stdout",
     "output_type": "stream",
     "text": [
      "62.875751503006015\n",
      "7.703046092184369\n",
      "4.737923847695391\n"
     ]
    },
    {
     "data": {
      "text/plain": [
       "0.012429216196844383"
      ]
     },
     "execution_count": 11,
     "metadata": {},
     "output_type": "execute_result"
    }
   ],
   "source": [
    "d_0 = nx.average_shortest_path_length(WS_0)\n",
    "d_1 = nx.average_shortest_path_length(WS_1)\n",
    "d_2 = nx.average_shortest_path_length(WS_2)\n",
    "print(d_0)\n",
    "print(d_1)\n",
    "print(d_2)\n",
    "import numpy\n",
    "numpy.log(500)/500"
   ]
  },
  {
   "cell_type": "markdown",
   "metadata": {},
   "source": [
    "The network becomes connected because $p > lnN/N$\n",
    "- Play around with p.\n",
    "- What's the value of p for which the average shortest path length gets close to the fully randomized network (i.e. when p=1)."
   ]
  },
  {
   "cell_type": "code",
   "execution_count": 44,
   "metadata": {},
   "outputs": [
    {
     "name": "stdout",
     "output_type": "stream",
     "text": [
      "21.229290581162324\n",
      "3.317875751503006\n"
     ]
    }
   ],
   "source": [
    "WS_r = nx.watts_strogatz_graph(500, 4, 0.015)\n",
    "d_r = nx.average_shortest_path_length(WS_r)\n",
    "print(d_r)\n",
    "ER = nx.erdos_renyi_graph(500, 0.015)\n",
    "print(nx.average_shortest_path_length(ER))"
   ]
  },
  {
   "cell_type": "markdown",
   "metadata": {},
   "source": [
    "- Let's investigate this behavior in detail. Generate 50 networks with N=500\n",
    "    , ⟨k⟩=4\n",
    "    , for each of p={0,0.01,0.03,0.05,0.1,0.2}.\n",
    "    Calculate the average of ⟨d⟩ as well as the standard deviation over the 50 networks, to create a plot that shows how the path length decreases very quickly with only a little fraction of re-wiring. Use the standard deviation to add errorbars to the plot. My version of the plot is below (since a picture's worth 1000 words)."
   ]
  },
  {
   "cell_type": "code",
   "execution_count": 76,
   "metadata": {},
   "outputs": [],
   "source": [
    "N = 500\n",
    "k_avg = 4\n",
    "ps = [0, .01, .03, .05, .1, .2]\n",
    "fiftyNW = list()\n",
    "for p in ps:\n",
    "    for i in range (0, 50):\n",
    "        n = nx.watts_strogatz_graph(N, k_avg, p)\n",
    "        fiftyNW.append((p, n))\n",
    "#d_avg\n",
    "\n",
    "#std_dev over the 50 nw"
   ]
  },
  {
   "cell_type": "code",
   "execution_count": 77,
   "metadata": {
    "scrolled": false
   },
   "outputs": [],
   "source": [
    "d_0 = list()\n",
    "d_1 = list()\n",
    "d_2 = list()\n",
    "d_3 = list()\n",
    "d_4 = list()\n",
    "d_5 = list()\n",
    "\n",
    "for p, n in fiftyNW:\n",
    "    if p == 0:\n",
    "        d_0.append(nx.average_shortest_path_length(n))\n",
    "    if p == .01:\n",
    "        d_1.append(nx.average_shortest_path_length(n))\n",
    "    if p == .03:\n",
    "        d_2.append(nx.average_shortest_path_length(n))\n",
    "    if p == .05:\n",
    "        d_3.append(nx.average_shortest_path_length(n))\n",
    "    if p == .1:\n",
    "        d_4.append(nx.average_shortest_path_length(n))\n",
    "    if p == .2:\n",
    "        d_5.append(nx.average_shortest_path_length(n))"
   ]
  },
  {
   "cell_type": "code",
   "execution_count": 78,
   "metadata": {},
   "outputs": [],
   "source": [
    "import numpy"
   ]
  },
  {
   "cell_type": "code",
   "execution_count": 91,
   "metadata": {},
   "outputs": [
    {
     "name": "stdout",
     "output_type": "stream",
     "text": [
      "[62.87575150300602, 23.478988216432864, 13.009721843687375, 10.233246973947894, 7.685434228456914, 6.1106597194388765]\n"
     ]
    }
   ],
   "source": [
    "avg_d = list()\n",
    "avg_d.append(numpy.average(d_0))\n",
    "avg_d.append(numpy.average(d_1))\n",
    "avg_d.append(numpy.average(d_2))\n",
    "avg_d.append(numpy.average(d_3))\n",
    "avg_d.append(numpy.average(d_4))\n",
    "avg_d.append(numpy.average(d_5))\n",
    "print(avg_d)\n",
    "import matplotlib.pyplot"
   ]
  },
  {
   "cell_type": "code",
   "execution_count": 111,
   "metadata": {},
   "outputs": [
    {
     "data": {
      "text/plain": [
       "Text(0,0.5,'average <d>')"
      ]
     },
     "execution_count": 111,
     "metadata": {},
     "output_type": "execute_result"
    },
    {
     "data": {
      "image/png": "[encoded data removed]",
      "text/plain": [
       "<Figure size 432x288 with 1 Axes>"
      ]
     },
     "metadata": {},
     "output_type": "display_data"
    }
   ],
   "source": [
    "binned = numpy.histogram(avg_d,bins=sorted(ps))\n",
    "matplotlib.pyplot.errorbar(ps, avg_d, yerr=2)\n",
    "matplotlib.pyplot.xlabel('p')\n",
    "matplotlib.pyplot.ylabel('average <d>')"
   ]
  },
  {
   "cell_type": "code",
   "execution_count": null,
   "metadata": {},
   "outputs": [],
   "source": []
  }
 ],
 "metadata": {
  "kernelspec": {
   "display_name": "Python 3",
   "language": "python",
   "name": "python3"
  },
  "language_info": {
   "codemirror_mode": {
    "name": "ipython",
    "version": 3
   },
   "file_extension": ".py",
   "mimetype": "text/x-python",
   "name": "python",
   "nbconvert_exporter": "python",
   "pygments_lexer": "ipython3",
   "version": "3.6.5"
  }
 },
 "nbformat": 4,
 "nbformat_minor": 2
}
