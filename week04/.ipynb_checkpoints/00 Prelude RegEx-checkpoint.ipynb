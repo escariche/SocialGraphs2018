{
 "cells": [
  {
   "cell_type": "markdown",
   "metadata": {},
   "source": [
    "But for today, the tasks are:\n",
    "\n",
    "- Learn about regular expressions\n",
    "- Learn about Pandas dataframes\n",
    "- Put together some statistics about the composition of the US congress in the past 6 years\n",
    "- Download and store (for later use) all the politicians-pages from Wikipedia\n",
    "- Extract all the internal wikipedia-links that connect the politician-pages on wikipedia\n",
    "- Generate the network of politicians on wikipedia.\n",
    "- Calculate some simple network statistics.\n"
   ]
  },
  {
   "cell_type": "markdown",
   "metadata": {},
   "source": [
    "# Prelude: Regular expressions¶\n",
    "## Round one\n",
    "Tutorial Examples"
   ]
  },
  {
   "cell_type": "code",
   "execution_count": 2,
   "metadata": {},
   "outputs": [
    {
     "name": "stdout",
     "output_type": "stream",
     "text": [
      "found word: cat\n"
     ]
    }
   ],
   "source": [
    "import re\n",
    "str = \"an example word: cat!!\"\n",
    "match = re.search(r'word: \\w\\w\\w', str)\n",
    "#If statement after search() tests if it succeeded\n",
    "if match:\n",
    "    print ('found', match.group()) ##'found word: cat'\n",
    "else:\n",
    "    print ('did not find')    "
   ]
  },
  {
   "cell_type": "code",
   "execution_count": 23,
   "metadata": {},
   "outputs": [
    {
     "name": "stdout",
     "output_type": "stream",
     "text": [
      "found iii\n",
      "did not find\n",
      "found iig\n",
      "found 123\n",
      "found abc\n"
     ]
    }
   ],
   "source": [
    "## Search for pattern 'iii' in string 'piiig'.\n",
    "## All of the pattern must match, but it may appear anywhere.\n",
    "## On success, match.group() is matched text.\n",
    "match = re.search(r'iii', 'piiig')\n",
    "if match:\n",
    "    print ('found', match.group()) ##'found word: cat'\n",
    "else:\n",
    "    print ('did not find')  \n",
    "    \n",
    "match = re.search(r'igs', 'piiig') #=>  not found, match == None\n",
    "if match:\n",
    "    print ('found', match.group()) ##'found word: cat'\n",
    "else:\n",
    "    print ('did not find')  \n",
    "    \n",
    "## . = any char but \\n\n",
    "match = re.search(r'..g', 'piiig') #=>  found, match.group() == \"iig\"\n",
    "if match:\n",
    "    print ('found', match.group()) ##'found word: cat'\n",
    "else:\n",
    "    print ('did not find')  \n",
    "    \n",
    "## \\d = digit char, \\w = word char\n",
    "match = re.search(r'\\d\\d\\d', 'p123g') #=>  found, match.group() == \"123\"\n",
    "if match:\n",
    "    print ('found', match.group()) ##'found word: cat'\n",
    "else:\n",
    "    print ('did not find')  \n",
    "match = re.search(r'\\w\\w\\w', '@@abcd!!') #=>  found, match.group() == \"abc\"\n",
    "if match:\n",
    "    print ('found', match.group()) ##'found word: cat'\n",
    "else:\n",
    "    print ('did not find')  "
   ]
  },
  {
   "cell_type": "code",
   "execution_count": 26,
   "metadata": {},
   "outputs": [
    {
     "name": "stdout",
     "output_type": "stream",
     "text": [
      "found piii\n",
      "found ii\n",
      "found 1 2   3\n",
      "found 12  3\n",
      "found 123\n",
      "did not find\n",
      "found bar\n"
     ]
    }
   ],
   "source": [
    "## i+ = one or more i's, as many as possible.\n",
    "match = re.search(r'pi+', 'piiig')\n",
    "if match:\n",
    "    print ('found', match.group()) ##'found word: cat'\n",
    "else:\n",
    "    print ('did not find')  \n",
    "## Finds the first/leftmost solution, and within it drives the +\n",
    "## as far as possible (aka 'leftmost and largest').\n",
    "## In this example, note that it does not get to the second set of i's.\n",
    "match = re.search(r'i+', 'piigiiii')# =>  found, match.group() == \"ii\"\n",
    "if match:\n",
    "    print ('found', match.group()) ##'found word: cat'\n",
    "else:\n",
    "    print ('did not find')  \n",
    "## \\s* = zero or more whitespace chars\n",
    "## Here look for 3 digits, possibly separated by whitespace.\n",
    "match = re.search(r'\\d\\s*\\d\\s*\\d', 'xx1 2   3xx') #=>  found, match.group() == \"1 2   3\"\n",
    "if match:\n",
    "    print ('found', match.group()) ##'found word: cat'\n",
    "else:\n",
    "    print ('did not find')  \n",
    "match = re.search(r'\\d\\s*\\d\\s*\\d', 'xx12  3xx') #=>  found, match.group() == \"12  3\"\n",
    "if match:\n",
    "    print ('found', match.group()) ##'found word: cat'\n",
    "else:\n",
    "    print ('did not find')  \n",
    "    \n",
    "match = re.search(r'\\d\\s*\\d\\s*\\d', 'xx123xx') #=>  found, match.group() == \"123\"\n",
    "if match:\n",
    "    print ('found', match.group()) ##'found word: cat'\n",
    "else:\n",
    "    print ('did not find')  \n",
    "## ^ = matches the start of string, so this fails:\n",
    "match = re.search(r'^b\\w+', 'foobar') #=>  not found, match == None\n",
    "if match:\n",
    "    print ('found', match.group()) ##'found word: cat'\n",
    "else:\n",
    "    print ('did not find')  \n",
    "## but without the ^ it succeeds:\n",
    "match = re.search(r'b\\w+', 'foobar') #=>  found, match.group() == \"bar\"\n",
    "if match:\n",
    "    print ('found', match.group()) ##'found word: cat'\n",
    "else:\n",
    "    print ('did not find')"
   ]
  },
  {
   "cell_type": "code",
   "execution_count": 32,
   "metadata": {},
   "outputs": [
    {
     "name": "stdout",
     "output_type": "stream",
     "text": [
      "b@google\n"
     ]
    }
   ],
   "source": [
    "str = 'purple alice-b@google.com monkey dishwasher'\n",
    "match = re.search(r'\\w+@\\w+', str)\n",
    "if match:\n",
    "    print(match.group())## 'b@google'"
   ]
  },
  {
   "cell_type": "code",
   "execution_count": 39,
   "metadata": {},
   "outputs": [
    {
     "name": "stdout",
     "output_type": "stream",
     "text": [
      "alice-b@google.com\n",
      "alice-b\n",
      "google.com\n"
     ]
    }
   ],
   "source": [
    "match = re.search(r'([\\w.-]+)@([\\w.-]+)', str)\n",
    "if match:\n",
    "    print (match.group())\n",
    "    print (match.group(1))\n",
    "    print (match.group(2))"
   ]
  },
  {
   "cell_type": "code",
   "execution_count": 41,
   "metadata": {},
   "outputs": [
    {
     "name": "stdout",
     "output_type": "stream",
     "text": [
      "alice@google.com\n",
      "bob@abc.com\n"
     ]
    }
   ],
   "source": [
    "  ## Suppose we have a text with many email addresses\n",
    "  str = 'purple alice@google.com, blah monkey bob@abc.com blah dishwasher'\n",
    "\n",
    "  ## Here re.findall() returns a list of all the found email strings\n",
    "  emails = re.findall(r'[\\w\\.-]+@[\\w\\.-]+', str) ## ['alice@google.com', 'bob@abc.com']\n",
    "  for email in emails:\n",
    "    # do something with each found email string\n",
    "    print (email)"
   ]
  },
  {
   "cell_type": "code",
   "execution_count": 43,
   "metadata": {},
   "outputs": [
    {
     "name": "stdout",
     "output_type": "stream",
     "text": [
      "[('alice', 'google.com'), ('bob', 'abc.com')]\n",
      "alice\n",
      "google.com\n",
      "bob\n",
      "abc.com\n"
     ]
    }
   ],
   "source": [
    "str = 'purple alice@google.com, blah monkey bob@abc.com blah dishwasher'\n",
    "tuples = re.findall(r'([\\w\\.-]+)@([\\w\\.-]+)', str)\n",
    "print (tuples)  ## [('alice', 'google.com'), ('bob', 'abc.com')]\n",
    "for tuple in tuples:\n",
    "    print (tuple[0])  ## username\n",
    "    print (tuple[1])  ## host"
   ]
  },
  {
   "cell_type": "code",
   "execution_count": 50,
   "metadata": {},
   "outputs": [
    {
     "name": "stdout",
     "output_type": "stream",
     "text": [
      "purple alice@yo-yo-dyne.com, blah monkey bob@yo-yo-dyne.com blah dishwasher\n"
     ]
    }
   ],
   "source": [
    "str = 'purple alice@google.com, blah monkey bob@abc.com blah dishwasher'\n",
    "## re.sub(pat, replacement, str) -- returns new string with all replacements,\n",
    "## \\1 is group(1), \\2 group(2) in the replacement\n",
    "print (re.sub(r'([\\w\\.-]+)@([\\w\\.-]+)', r'\\1@yo-yo-dyne.com', str))\n",
    "## purple alice@yo-yo-dyne.com, blah monkey bob@yo-yo-dyne.com blah dishwasher"
   ]
  },
  {
   "cell_type": "code",
   "execution_count": null,
   "metadata": {},
   "outputs": [],
   "source": []
  },
  {
   "cell_type": "markdown",
   "metadata": {},
   "source": [
    "## What are regular expressions?\n",
    "- In my words, regular expressions are basic linguistic structures that appear in human written communication and can be used to analyse texts.\n",
    "\n",
    "Provide an example of a regex to match 4 digits numbers (by this, I mean precisely 4 digits, you should not match any part of numbers with e.g. 5 digits). In your notebook, use findall to show that your regex works on this test-text. Hint: a great place to test out regular expressions is: https://regex101.com."
   ]
  },
  {
   "cell_type": "code",
   "execution_count": 66,
   "metadata": {},
   "outputs": [
    {
     "name": "stdout",
     "output_type": "stream",
     "text": [
      "['1234', '9999', '2345']\n"
     ]
    }
   ],
   "source": [
    "import requests\n",
    "testText = requests.get('https://raw.githubusercontent.com/suneman/socialgraphs2017/master/files/test.txt').text\n",
    "match = re.findall(r'\\d\\d\\d\\d', testText)\n",
    "print(match)"
   ]
  },
  {
   "cell_type": "code",
   "execution_count": 81,
   "metadata": {},
   "outputs": [
    {
     "name": "stdout",
     "output_type": "stream",
     "text": [
      "['superpolaroid', 'supertaxidermy', 'superbeer']\n"
     ]
    }
   ],
   "source": [
    "print(re.findall(r'super\\w+', testText))"
   ]
  },
  {
   "cell_type": "markdown",
   "metadata": {},
   "source": [
    "### Excercise\n",
    "Exercise: Regular expressions round 2.\n",
    "\n",
    "Show that you can extract the wiki-links from the test-text.\n",
    "\n",
    "Perhaps you can find inspiration on stack overflow or similar.\n",
    "\n",
    "**Hint**: Try to solve this exercise on your own (that's what you will get the most out of - learning wise), but if you get stuck ... you will find the solution in one of the video lectures below.\n"
   ]
  },
  {
   "cell_type": "code",
   "execution_count": 110,
   "metadata": {},
   "outputs": [],
   "source": [
    "match = re.findall(r'(\\[\\[\\w+\\]\\])', testText)\n",
    "for m in re.findall(r'(\\[\\[[a-zA-Z0-9_\\s\\(\\)\\-]+\\|[a-zA-Z0-9_\\s\\(\\)\\-]+\\]\\])', testText):\n",
    "    match.append(m)"
   ]
  },
  {
   "cell_type": "code",
   "execution_count": 115,
   "metadata": {},
   "outputs": [
    {
     "name": "stdout",
     "output_type": "stream",
     "text": [
      "['[[gentrify]]', '[[hashtag]]', '[[Bicycle|Bicycle(two-wheeled type)]]', '[[Pitchfork|Pitchfork Magazine]]']\n"
     ]
    }
   ],
   "source": [
    "print(match)"
   ]
  },
  {
   "cell_type": "code",
   "execution_count": null,
   "metadata": {},
   "outputs": [],
   "source": []
  }
 ],
 "metadata": {
  "kernelspec": {
   "display_name": "Python 3",
   "language": "python",
   "name": "python3"
  },
  "language_info": {
   "codemirror_mode": {
    "name": "ipython",
    "version": 3
   },
   "file_extension": ".py",
   "mimetype": "text/x-python",
   "name": "python",
   "nbconvert_exporter": "python",
   "pygments_lexer": "ipython3",
   "version": "3.6.5"
  }
 },
 "nbformat": 4,
 "nbformat_minor": 2
}
