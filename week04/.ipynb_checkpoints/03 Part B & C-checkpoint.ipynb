{
 "cells": [
  {
   "cell_type": "markdown",
   "metadata": {},
   "source": [
    "# PART B: Download Wikipedia pages"
   ]
  },
  {
   "cell_type": "code",
   "execution_count": 3,
   "metadata": {},
   "outputs": [],
   "source": [
    "import pandas as pd\n",
    "cong113 = pd.read_csv('./data_US_congress/H113.csv', encoding='utf-8')\n",
    "cong114 = pd.read_csv('./data_US_congress/H114.csv', encoding='utf-8')\n",
    "cong115 = pd.read_csv('./data_US_congress/H115.csv', encoding='utf-8')"
   ]
  },
  {
   "cell_type": "code",
   "execution_count": 2,
   "metadata": {
    "scrolled": true
   },
   "outputs": [],
   "source": [
    "import urllib\n",
    "from urllib.parse   import quote\n",
    "from urllib.request import urlopen\n",
    "import codecs\n",
    "baseurl = \"http://en.wikipedia.org/w/api.php/?\"\n",
    "action = \"action=query\"\n",
    "content = \"prop=revisions\"\n",
    "rvprop =\"rvprop=timestamp|content\"\n",
    "dataformat = \"format=json\"\n",
    "rvdir = \"rvdir=older\" #sort revisions from newest to oldest\n",
    "start = \"rvend=2000-01-03T00:00:00Z\" #start of my time period\n",
    "end = \"rvstart=2015-01-03T00:00:00Z\" #end of my time period\n",
    "limit = \"rvlimit=1\" #consider only the first revision\n",
    "\n",
    "for wikiPage in cong113['WikiPageName']:\n",
    "    nm = quote(wikiPage, safe='. ')\n",
    "    title = \"titles=%s\"  % nm\n",
    "    #title = quote(\"titles=\", safe='/=_ e')\n",
    "    query = \"%s%s&%s&%s&%s&%s&%s&%s&%s&%s\" % (baseurl, action, title, content,\n",
    "                                          rvprop, dataformat, rvdir, end,\n",
    "                                          start, limit)\n",
    "    #print(title)\n",
    "    #print(query)\n",
    "    html = urlopen(query).read()\n",
    "    with open('/Users/javiescariz/Google Drive/DTU/Courses/SocialGraphs/Representatives/113/%s.txt' % wikiPage, 'w+', encoding='utf-8') as f:\n",
    "        f.write(html.decode('utf-8'))\n",
    "        f.close()"
   ]
  },
  {
   "cell_type": "code",
   "execution_count": 3,
   "metadata": {},
   "outputs": [],
   "source": [
    "import urllib\n",
    "from urllib.parse   import quote\n",
    "from urllib.request import urlopen\n",
    "import codecs\n",
    "baseurl = \"http://en.wikipedia.org/w/api.php/?\"\n",
    "action = \"action=query\"\n",
    "content = \"prop=revisions\"\n",
    "rvprop =\"rvprop=timestamp|content\"\n",
    "dataformat = \"format=json\"\n",
    "rvdir = \"rvdir=older\" #sort revisions from newest to oldest\n",
    "start = \"rvend=2000-01-03T00:00:00Z\" #start of my time period\n",
    "end = \"rvstart=2017-01-03T00:00:00Z\" #end of my time period\n",
    "limit = \"rvlimit=1\" #consider only the first revision\n",
    "\n",
    "for wikiPage in cong114['WikiPageName']:\n",
    "    nm = quote(wikiPage, safe='. ')\n",
    "    title = \"titles=%s\"  % nm\n",
    "    #title = quote(\"titles=\", safe='/=_ e')\n",
    "    query = \"%s%s&%s&%s&%s&%s&%s&%s&%s&%s\" % (baseurl, action, title, content,\n",
    "                                          rvprop, dataformat, rvdir, end,\n",
    "                                          start, limit)\n",
    "    #print(title)\n",
    "    #print(query)\n",
    "    html = urlopen(query).read()\n",
    "    with open('/Users/javiescariz/Google Drive/DTU/Courses/SocialGraphs/Representatives/114/%s.txt' % wikiPage, 'w+', encoding='utf-8') as f:\n",
    "        f.write(html.decode('utf-8'))\n",
    "        f.close()"
   ]
  },
  {
   "cell_type": "code",
   "execution_count": 4,
   "metadata": {},
   "outputs": [],
   "source": [
    "import urllib\n",
    "from urllib.parse   import quote\n",
    "from urllib.request import urlopen\n",
    "import codecs\n",
    "baseurl = \"http://en.wikipedia.org/w/api.php/?\"\n",
    "action = \"action=query\"\n",
    "content = \"prop=revisions\"\n",
    "rvprop =\"rvprop=timestamp|content\"\n",
    "dataformat = \"format=json\"\n",
    "rvdir = \"rvdir=older\" #sort revisions from newest to oldest\n",
    "start = \"rvend=2000-01-03T00:00:00Z\" #start of my time period\n",
    "end = \"rvstart=2018-09-29T00:00:00Z\" #end of my time period\n",
    "limit = \"rvlimit=1\" #consider only the first revision\n",
    "\n",
    "for wikiPage in cong115['WikiPageName']:\n",
    "    nm = quote(wikiPage, safe='. ')\n",
    "    title = \"titles=%s\"  % nm\n",
    "    #title = quote(\"titles=\", safe='/=_ e')\n",
    "    query = \"%s%s&%s&%s&%s&%s&%s&%s&%s&%s\" % (baseurl, action, title, content,\n",
    "                                          rvprop, dataformat, rvdir, end,\n",
    "                                          start, limit)\n",
    "    #print(title)\n",
    "    #print(query)\n",
    "    html = urlopen(query).read()\n",
    "    with open('/Users/javiescariz/Google Drive/DTU/Courses/SocialGraphs/Representatives/115/%s.txt' % wikiPage, 'w+', encoding='utf-8') as f:\n",
    "        f.write(html.decode('utf-8'))\n",
    "        f.close()"
   ]
  },
  {
   "cell_type": "markdown",
   "metadata": {},
   "source": [
    "# PART C: Building the networks"
   ]
  },
  {
   "cell_type": "markdown",
   "metadata": {},
   "source": [
    "## Example with one congressman"
   ]
  },
  {
   "cell_type": "code",
   "execution_count": 7,
   "metadata": {},
   "outputs": [],
   "source": [
    "first_node = cong113.WikiPageName.sort_values().iloc[0]"
   ]
  },
  {
   "cell_type": "code",
   "execution_count": 8,
   "metadata": {},
   "outputs": [],
   "source": [
    "path_folder = \"../Representatives/113/\""
   ]
  },
  {
   "cell_type": "code",
   "execution_count": 9,
   "metadata": {},
   "outputs": [],
   "source": [
    "import io"
   ]
  },
  {
   "cell_type": "code",
   "execution_count": 10,
   "metadata": {},
   "outputs": [],
   "source": [
    "f = io.open(path_folder+first_node+'.txt', 'r', encoding='utf-8').read()"
   ]
  },
  {
   "cell_type": "code",
   "execution_count": 58,
   "metadata": {},
   "outputs": [],
   "source": [
    "import re\n",
    "links = re.findall(\"\\[\\[(.*?)\\]\\]\", f)"
   ]
  },
  {
   "cell_type": "code",
   "execution_count": 78,
   "metadata": {},
   "outputs": [
    {
     "data": {
      "text/plain": [
       "['Special:ApiFeatureUsage',\n",
       " 'Illinois',\n",
       " 'Ray LaHood',\n",
       " 'Ricca Slone',\n",
       " 'Joan Krupa',\n",
       " 'Morris, Minnesota|Morris',\n",
       " 'Minnesota',\n",
       " 'United States|U.S.',\n",
       " 'Republican Party (United States)|Republican',\n",
       " 'Illinois Central College',\n",
       " 'Bradley University',\n",
       " 'Conservative Baptists|Conservative Baptist',\n",
       " 'United States House of Representatives|United States Representative',\n",
       " 'Republican Party (United States)|Republican Party',\n",
       " 'Peoria, Illinois|Peoria',\n",
       " 'Springfield, Illinois|Springfield',\n",
       " 'List of youngest members of the United States Congress|second youngest currently serving U.S. representative',\n",
       " 'Patrick Murphy (Florida politician)|Patrick Murphy',\n",
       " 'U.S. Congress',\n",
       " 'Illinois House of Representatives',\n",
       " 'Morris, Minnesota|Morris',\n",
       " 'Minnesota',\n",
       " 'Richwoods High School',\n",
       " 'advanced placement',\n",
       " 'Illinois Central College',\n",
       " 'Bachelor of Science',\n",
       " 'Bradley University',\n",
       " 'Individual Retirement Account',\n",
       " 'Chicago Magazine',\n",
       " 'Peoria Journal Star',\n",
       " 'National Journal',\n",
       " 'File:Aaron Schock Official.jpg|thumb|200px|2006 official photo of Schock',\n",
       " 'Illinois House of Representatives',\n",
       " 'Ricca Slone',\n",
       " 'Dave Koehler',\n",
       " 'Peoria Airport',\n",
       " 'Journal Star (Peoria)|Journal Star',\n",
       " 'File:Illinois Congressman Aaron Schock at Beardstown River in 2009.PNG|thumb|Schock visiting the Illinois River with Bob Walters, [[mayor',\n",
       " 'Beardstown, Illinois|Beardstown',\n",
       " 'United States House Committee on Ways and Means|Committee on Ways and Means',\n",
       " 'United States House Ways and Means Subcommittee on Trade|Subcommittee on Trade',\n",
       " 'United States House Ways and Means Subcommittee on Oversight|Subcommittee on Oversight',\n",
       " 'United States House Committee on House Administration|Committee on House Administration',\n",
       " 'United States House Administration Subcommittee on Elections|Subcommittee on Elections',\n",
       " 'United States House Administration Subcommittee on Oversight|Subcommittee on Oversight',\n",
       " 'Party whips of the United States House of Representatives|Minority Whip',\n",
       " 'Eric Cantor',\n",
       " 'Ranking Member',\n",
       " 'Republican Study Committee',\n",
       " 'Republican Study Committee',\n",
       " 'Republican Main Street Partnership',\n",
       " 'United States House Committee on Ways and Means|Ways and Means Committee',\n",
       " 'Journal Star (Peoria)|Journal Star',\n",
       " 'United States House Ways and Means Subcommittee on Trade|Subcommittee on Trade',\n",
       " 'United States House Ways and Means Subcommittee on Social Security|Subcommittee on Social Security',\n",
       " 'United States House Ways and Means Subcommittee on Oversight|Subcommittee on Oversight',\n",
       " 'United States House Committee on House Administration|Committee on House Administration',\n",
       " 'Troubled Asset Relief Program',\n",
       " 'Barney Frank',\n",
       " 'Project Vote Smart',\n",
       " 'Barack Obama',\n",
       " 'Air Force One',\n",
       " 'Caterpillar Inc.|Caterpillar',\n",
       " 'East Peoria, Illinois',\n",
       " 'Bradley University',\n",
       " 'New Philadelphia, Illinois, Study Act (H.R. 930; 113th Congress)',\n",
       " 'United States Department of the Interior',\n",
       " 'New Philadelphia Town Site|New Philadelphia archaeological site',\n",
       " 'Illinois',\n",
       " '111th United States Congress',\n",
       " 'William R. Keating',\n",
       " 'Equitable Access to Care and Health Act (H.R. 1814; 113th Congress)',\n",
       " 'Internal Revenue Code',\n",
       " 'Patient Protection and Affordable Care Act',\n",
       " 'Time (magazine)|Time',\n",
       " 'Funeral of Nelson Mandela',\n",
       " 'Ted Cruz',\n",
       " 'Conservatism in the United States|conservative',\n",
       " 'moderate',\n",
       " 'Bob Michel',\n",
       " 'Ray LaHood',\n",
       " 'Chicago Tribune',\n",
       " 'Fiscal conservatism|fiscally conservative',\n",
       " 'social issues',\n",
       " 'Emergency Economic Stabilization Act of 2008',\n",
       " 'Republican Study Committee',\n",
       " 'Republican Main Street Partnership',\n",
       " 'Journal Star (Peoria)|Journal Star',\n",
       " 'Roll Call',\n",
       " 'Dick Durbin',\n",
       " 'Republican Governors Association',\n",
       " 'Mitt Romney',\n",
       " 'Republican Party presidential primaries, 2012|2012 Republican presidential primaries',\n",
       " 'The Hill (newspaper)|The Hill',\n",
       " 'Patient Protection and Affordable Care Act',\n",
       " 'tort reform',\n",
       " 'WEEK-TV',\n",
       " 'National Endowment for the Arts',\n",
       " 'Bloomberg L.P.|Bloomberg',\n",
       " 'John Carney (politician)|John Carney',\n",
       " 'The Hill (newspaper)|The Hill',\n",
       " 'Journal Star (Peoria)|Journal Star',\n",
       " 'Americans for Tax Reform',\n",
       " 'Illinois Policy Institute',\n",
       " 'Free trade|free-trade',\n",
       " 'Colombia',\n",
       " 'Panama',\n",
       " 'South Korea',\n",
       " 'Roll Call',\n",
       " 'Leonard Boswell',\n",
       " 'GovTrack',\n",
       " 'Illinois River|Illinois',\n",
       " 'Mississippi River',\n",
       " 'Journal Star (Peoria)|Journal Star',\n",
       " 'Journal Star (Peoria)|Journal Star',\n",
       " 'Devin Nunes',\n",
       " 'California',\n",
       " 'Guantanamo Bay detention camp',\n",
       " 'Mark Kirk',\n",
       " 'Law Library of Congress',\n",
       " 'legal opinion|legal-opinion',\n",
       " 'Honduras: Constitutional Law Issues',\n",
       " '2009 Honduran constitutional crisis',\n",
       " 'President of Honduras|Honduran President',\n",
       " 'Manuel Zelaya',\n",
       " \"2009 Honduran coup d'\\\\u00e9tat|June 28, 2009, removal from office and expatriation\",\n",
       " 'Obama Administration',\n",
       " 'Honduran general election, 2009|Honduran November 29, 2009, elections',\n",
       " 'Colombia',\n",
       " 'Hardball with Chris Matthews',\n",
       " 'water-boarding',\n",
       " 'torture',\n",
       " 'hate crime',\n",
       " 'sexual orientation',\n",
       " 'gender identity',\n",
       " 'gender',\n",
       " 'disability',\n",
       " \"Don't Ask, Don't Tell\",\n",
       " 'pro-life',\n",
       " 'H.R. 3',\n",
       " 'No Taxpayer Funding for Abortion Act',\n",
       " 'DREAM Act',\n",
       " 'Marco Rubio|Senator Marco Rubio',\n",
       " 'tax credits',\n",
       " 'higher education',\n",
       " 'Ripon Society|Ripon Advance',\n",
       " 'National Defense Authorization Act for Fiscal Year 2012',\n",
       " 'File:Illinois Congressman Aaron Schock at a press conference in 2009.PNG|thumb|Schock speaking at a press conference',\n",
       " 'Illinois House of Representatives',\n",
       " 'Democratic Party (United States)|Democrat',\n",
       " 'Ricca Slone',\n",
       " 'Illinois General Assembly',\n",
       " 'Republican Party (United States)|Republican',\n",
       " 'Ray LaHood',\n",
       " 'Colleen Callahan',\n",
       " 'Sheldon Schafer',\n",
       " 'Barack Obama',\n",
       " \"Illinois's 18th congressional district|18th distinct\",\n",
       " 'primary election|primary',\n",
       " 'File:Illinois Congressman Aaron Schock at a school in 2009.PNG|thumb|left|Schock visiting students at Whittier Elementary School in [[Peoria, Illinois|Peoria',\n",
       " 'Illinois',\n",
       " 'George W. Bush',\n",
       " 'Barack Obama',\n",
       " 'mayor',\n",
       " 'Jim Ardis',\n",
       " '2008 Republican National Convention',\n",
       " 'Illinois Farm Bureau',\n",
       " 'Journal Star (Peoria)|Journal Star',\n",
       " 'Journal Star (Peoria)|Journal Star',\n",
       " 'Baby of the House#United States|youngest member of Congress',\n",
       " 'Patrick T. McHenry',\n",
       " 'United States Congress',\n",
       " 'Democratic Party (United States)|Democrat',\n",
       " 'Jehan A. Gordon',\n",
       " 'Illinois House of Representatives',\n",
       " 'Republican Party (United States)|Republican Party',\n",
       " 'Joan Krupa',\n",
       " 'Journal Star (Peoria)|Journal Star',\n",
       " 'Journal Star (Peoria)|Journal Star',\n",
       " 'WJBC (AM)|WJBC',\n",
       " 'Journal Star (Peoria)|Journal Star',\n",
       " 'Federal Election Commission',\n",
       " 'Eric Cantor',\n",
       " 'Politico',\n",
       " 'United States House Committee on Ethics|House Committee on Ethics',\n",
       " 'Office of Congressional Ethics',\n",
       " 'Economist Group',\n",
       " 'Roll Call',\n",
       " 'Chicago Tribune',\n",
       " 'The State Journal-Register',\n",
       " 'Journal Star (Peoria)|Journal Star',\n",
       " 'Chicago Tribune',\n",
       " 'Quincy Herald-Whig',\n",
       " 'Ricca Slone',\n",
       " \"File:Menshealth-cover-june2011.jpg|thumb|Schock on ''[[Men's Health (magazine)|Men's Health\",\n",
       " 'The Huffington Post',\n",
       " 'TMZ.com',\n",
       " 'CNN',\n",
       " 'Reliable Sources',\n",
       " 'Huffington Post',\n",
       " 'The Colbert Report',\n",
       " 'Stephen Colbert',\n",
       " \"Men's Health (magazine)|Men's Health\",\n",
       " 'Roll Call',\n",
       " 'Top Chef (season 7)|Season 7',\n",
       " 'Top Chef',\n",
       " 'reality television|reality-television',\n",
       " 'List of people from Peoria, Illinois',\n",
       " 'List of United States Representatives from Illinois',\n",
       " 'TMZ.com',\n",
       " 'The New York Times',\n",
       " 'WMAQ-TV',\n",
       " 'Journal Star (Peoria)|Journal Star',\n",
       " 'The Huffington Post',\n",
       " 'The New York Times',\n",
       " 'Journal Star (Peoria)|Journal Star',\n",
       " 'Journal Star (Peoria)|Journal Star',\n",
       " 'The Register-Mail',\n",
       " 'The Early Show',\n",
       " 'CBS News',\n",
       " 'The State Journal-Register',\n",
       " 'Time (magazine)|Time',\n",
       " 'Law Library of Congress',\n",
       " 'Los Angeles Times',\n",
       " 'McClatchy Newspapers',\n",
       " 'Morris Sun Tribune',\n",
       " 'The Washington Post',\n",
       " 'Morris Sun Tribune',\n",
       " 'Illinois Times',\n",
       " 'The Pantagraph',\n",
       " 'The Daily Caller',\n",
       " 'Journal Star (Peoria)|Journal Star',\n",
       " 'Journal Star (Peoria)|Journal Star',\n",
       " 'The Huffington Post',\n",
       " 'United States House of Representatives',\n",
       " 'Journal Star (Peoria)|Journal Star',\n",
       " 'TMZ.com',\n",
       " 'Journal Star (Peoria)|Journal Star',\n",
       " 'Journal Star (Peoria)|Journal Star',\n",
       " 'Journal Star (Peoria)|Journal Star',\n",
       " 'Jamie Gangel',\n",
       " 'Today (NBC program)|Today',\n",
       " 'NBC',\n",
       " 'NBC',\n",
       " 'YouTube',\n",
       " 'Chicago Tribune',\n",
       " 'The State Journal-Register',\n",
       " 'WEEK-TV',\n",
       " 'The Washington Post',\n",
       " 'Chicago Magazine',\n",
       " \"Men's Health (magazine)|Men's Health\",\n",
       " 'Ray LaHood',\n",
       " 'List of United States Representatives from Illinois|U.S. House of Representatives',\n",
       " \"Illinois's 18th congressional district\",\n",
       " 'Patrick McHenry',\n",
       " 'List of youngest members of the United States Congress|Baby of the House',\n",
       " 'Patrick Murphy (Florida politician)|Patrick Murphy',\n",
       " 'Tom Rooney (politician)|Tom Rooney',\n",
       " 'List of current members of the United States House of Representatives by seniority|United States Representatives by seniority',\n",
       " 'Kurt Schrader',\n",
       " 'Wikipedia:Persondata',\n",
       " 'Category:1981 births',\n",
       " 'Category:American investors',\n",
       " 'Category:Baptists from the United States',\n",
       " 'Category:Bradley University alumni',\n",
       " 'Category:Illinois Central College alumni',\n",
       " 'Category:Illinois Republicans',\n",
       " 'Category:Living people',\n",
       " 'Category:Members of the Illinois House of Representatives',\n",
       " 'Category:Members of the United States House of Representatives from Illinois',\n",
       " 'Category:People from Stevens County, Minnesota',\n",
       " 'Category:Politicians from Peoria, Illinois',\n",
       " 'Category:Republican Party members of the United States House of Representatives',\n",
       " 'Category:School board members in the United States']"
      ]
     },
     "execution_count": 78,
     "metadata": {},
     "output_type": "execute_result"
    }
   ],
   "source": [
    "links"
   ]
  },
  {
   "cell_type": "code",
   "execution_count": 155,
   "metadata": {},
   "outputs": [],
   "source": [
    "links_simple = list()\n",
    "wikilink_rx = re.compile(r'\\[\\[(?:[^|\\]]*)\\|?([^\\]]+)\\]\\]')\n",
    "for l in links:\n",
    "    match = re.search(r'([a-zA-Z0-9_\\s\\(\\)\\-\\,.]*)\\|([a-zA-Z0-9_\\s\\(\\)\\-\\,.]*)', l)\n",
    "    if match == None:\n",
    "        links_simple.append(l.replace(\" \", \"_\"))\n",
    "    else:\n",
    "        links_simple.append(match.group(1).replace(\" \", \"_\"))\n",
    "        links_simple.append(match.group(2).replace(\" \", \"_\"))"
   ]
  },
  {
   "cell_type": "code",
   "execution_count": 157,
   "metadata": {},
   "outputs": [
    {
     "name": "stdout",
     "output_type": "stream",
     "text": [
      "Patrick_Murphy_(Florida_politician)\n",
      "Eric_Cantor\n",
      "John_Carney_(politician)\n",
      "Devin_Nunes\n",
      "Eric_Cantor\n",
      "Patrick_McHenry\n",
      "Patrick_Murphy_(Florida_politician)\n",
      "Kurt_Schrader\n"
     ]
    }
   ],
   "source": [
    "for l in links_simple:\n",
    "    if l in set(cong113.WikiPageName):\n",
    "        print(l)"
   ]
  },
  {
   "cell_type": "markdown",
   "metadata": {},
   "source": [
    "## 113th Congress"
   ]
  },
  {
   "cell_type": "code",
   "execution_count": 1,
   "metadata": {},
   "outputs": [],
   "source": [
    "import io\n",
    "import re\n",
    "import networkx as nx\n",
    "\n",
    "congress113graph = nx.DiGraph()"
   ]
  },
  {
   "cell_type": "code",
   "execution_count": 23,
   "metadata": {},
   "outputs": [],
   "source": [
    "path_folder = \"../Representatives/113/\"\n",
    "for cm in cong113.WikiPageName.sort_values():\n",
    "    \n",
    "    #new node corresponding with new congressman\n",
    "    congress113graph.add_node(cm,\n",
    "                              state=cong113[cong113.WikiPageName == cm].State,\n",
    "                              party=cong113[cong113.WikiPageName == cm].Party )\n",
    "    \n",
    "    f = io.open(path_folder+cm+'.txt', 'r', encoding='utf-8').read()\n",
    "    links = re.findall(\"\\[\\[(.*?)\\]\\]\", f)\n",
    "    links_simple = list()\n",
    "    wikilink_rx = re.compile(r'\\[\\[(?:[^|\\]]*)\\|?([^\\]]+)\\]\\]')\n",
    "    for l in links:\n",
    "        match = re.search(r'([a-zA-Z0-9_\\s\\(\\)\\-\\,.]*)\\|([a-zA-Z0-9_\\s\\(\\)\\-\\,.]*)', l)\n",
    "        if match == None:\n",
    "            m = l.replace(\" \", \"_\")\n",
    "            if m in set(cong113.WikiPageName):\n",
    "                congress113graph.add_edge(cm, m)\n",
    "        else:\n",
    "            m1 = match.group(1).replace(\" \", \"_\")\n",
    "            m2 = match.group(2).replace(\" \", \"_\")\n",
    "            if m1 in set(cong113.WikiPageName):\n",
    "                congress113graph.add_edge(cm, m1)\n",
    "            if m2 in set(cong113.WikiPageName):\n",
    "                congress113graph.add_edge(cm, m2)"
   ]
  },
  {
   "cell_type": "code",
   "execution_count": 25,
   "metadata": {},
   "outputs": [
    {
     "data": {
      "image/png": "[encoded data removed]",
      "text/plain": [
       "<Figure size 432x288 with 1 Axes>"
      ]
     },
     "metadata": {},
     "output_type": "display_data"
    }
   ],
   "source": [
    "nx.draw_spring(congress113graph, node_size=5)"
   ]
  },
  {
   "cell_type": "code",
   "execution_count": 62,
   "metadata": {},
   "outputs": [],
   "source": [
    "rep = list()\n",
    "for node in congress113graph:\n",
    "    if congress113graph.node[node]['party'].item() == 'Republican':\n",
    "        rep.append(node)"
   ]
  },
  {
   "cell_type": "code",
   "execution_count": 64,
   "metadata": {},
   "outputs": [
    {
     "data": {
      "text/plain": [
       "240"
      ]
     },
     "execution_count": 64,
     "metadata": {},
     "output_type": "execute_result"
    }
   ],
   "source": [
    "len(rep)"
   ]
  },
  {
   "cell_type": "code",
   "execution_count": 71,
   "metadata": {},
   "outputs": [
    {
     "data": {
      "image/png": "[encoded data removed]",
      "text/plain": [
       "<Figure size 432x288 with 1 Axes>"
      ]
     },
     "metadata": {},
     "output_type": "display_data"
    }
   ],
   "source": [
    "\n",
    "node_colors = [\"red\" if n in rep\n",
    "               else 'blue' for n in congress113graph.nodes()]\n",
    "nx.draw_networkx(congress113graph, pos=None, arrows=True, with_labels=False,\n",
    "                 nodelist=congress113graph.nodes(),\n",
    "                 node_color=node_colors,\n",
    "                 node_size=5\n",
    "                )"
   ]
  },
  {
   "cell_type": "markdown",
   "metadata": {},
   "source": [
    "Number of nodes in the network"
   ]
  },
  {
   "cell_type": "code",
   "execution_count": 143,
   "metadata": {},
   "outputs": [
    {
     "name": "stdout",
     "output_type": "stream",
     "text": [
      "444\n",
      "1609\n"
     ]
    }
   ],
   "source": [
    "print(len(congress113graph.nodes))\n",
    "print(len(congress113graph.edges))"
   ]
  },
  {
   "cell_type": "markdown",
   "metadata": {},
   "source": [
    "Plot in/out degree distribution"
   ]
  },
  {
   "cell_type": "code",
   "execution_count": 162,
   "metadata": {},
   "outputs": [],
   "source": [
    "def plot_in_degree_distr():\n",
    "    degs={}\n",
    "    for n in congress113graph.nodes():\n",
    "        deg = congress113graph.in_degree(n)\n",
    "        if deg not in degs:\n",
    "            degs[deg] = 0\n",
    "        degs[deg] += 1\n",
    "    items = sorted(degs.items())\n",
    "    fig = plt.figure()\n",
    "    ax = fig.add_subplot(111)\n",
    "    ax.plot([k for (k,v) in items], [v for (k,v) in items])\n",
    "    #ax.set_xscale('log')\n",
    "    #ax.set_yscale('log')\n",
    "    plt.title('113th House of Representatives In Degree Distribution')\n",
    "\n",
    "def plot_out_degree_distr():\n",
    "    degs={}\n",
    "    for n in congress113graph.nodes():\n",
    "        deg = congress113graph.out_degree(n)\n",
    "        if deg not in degs:\n",
    "            degs[deg] = 0\n",
    "        degs[deg] += 1\n",
    "    items = sorted(degs.items())\n",
    "    fig = plt.figure()\n",
    "    ax = fig.add_subplot(111)\n",
    "    ax.plot([k for (k,v) in items], [v for (k,v) in items])\n",
    "    #ax.set_xscale('log')\n",
    "    #ax.set_yscale('log')\n",
    "    plt.title('113th House of Representatives Out Degree Distribution')"
   ]
  },
  {
   "cell_type": "code",
   "execution_count": 163,
   "metadata": {},
   "outputs": [
    {
     "data": {
      "image/png": "[encoded data removed]",
      "text/plain": [
       "<Figure size 432x288 with 1 Axes>"
      ]
     },
     "metadata": {},
     "output_type": "display_data"
    }
   ],
   "source": [
    "plot_in_degree_distr()"
   ]
  },
  {
   "cell_type": "code",
   "execution_count": 164,
   "metadata": {},
   "outputs": [
    {
     "data": {
      "image/png": "[encoded data removed]",
      "text/plain": [
       "<Figure size 432x288 with 1 Axes>"
      ]
     },
     "metadata": {},
     "output_type": "display_data"
    }
   ],
   "source": [
    "plot_out_degree_distr()"
   ]
  },
  {
   "cell_type": "markdown",
   "metadata": {},
   "source": [
    "Who is the most connected representative?"
   ]
  },
  {
   "cell_type": "code",
   "execution_count": 141,
   "metadata": {},
   "outputs": [
    {
     "data": {
      "text/plain": [
       "('Nancy_Pelosi', 70)"
      ]
     },
     "execution_count": 141,
     "metadata": {},
     "output_type": "execute_result"
    }
   ],
   "source": [
    "max(congress113graph.degree(), key=lambda x : x[1])"
   ]
  }
 ],
 "metadata": {
  "kernelspec": {
   "display_name": "Python 3",
   "language": "python",
   "name": "python3"
  },
  "language_info": {
   "codemirror_mode": {
    "name": "ipython",
    "version": 3
   },
   "file_extension": ".py",
   "mimetype": "text/x-python",
   "name": "python",
   "nbconvert_exporter": "python",
   "pygments_lexer": "ipython3",
   "version": "3.6.5"
  }
 },
 "nbformat": 4,
 "nbformat_minor": 2
}
