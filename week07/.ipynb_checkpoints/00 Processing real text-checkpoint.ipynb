{
 "cells": [
  {
   "cell_type": "markdown",
   "metadata": {},
   "source": [
    "# Processing real text (from out on the inter-webs)\n",
    "\n",
    "> _Reading_: NLPP Chapter 3.1, 3.2, 3.3, 3.4, 3.5, 3.6, 3.7, 3.9, and 3.10. It's not important that you go in depth with everything here - the key think is that you know that Chapter 3 of this book exists, and that it's a great place to return to if you're ever in need of an explanation of regular expressions, unicode, or other topics that you forget as soon as you stop using them (and don't worry, I forget about those things too).\n",
    "\n",
    "> _Exercise 1_: Just a couple of examples from the book: Work through the exercises NLPP1e 3.12: 6, 30.\n",
    "\n",
    "6. Describe the class of strings matched by the following regular expressions.\n",
    "\n",
    "    a. **[a-zA-Z]+**: Any consecutive characters from the range a to z, case insensitive.\n",
    "    \n",
    "    b. **[A-Z][a-z]*** : Words in upper case and words in lower case with letters from a to z.\n",
    "    \n",
    "    c. p[aeiou]{,2}t\n",
    "    \n",
    "    d. \\d+(\\.\\d+)?\n",
    "    \n",
    "    e. ([^aeiou][aeiou][^aeiou])*\n",
    "    \n",
    "    f. \\w+|[^\\w\\s]+\n",
    "\n",
    "Test your answers using nltk.re_show()."
   ]
  },
  {
   "cell_type": "code",
   "execution_count": null,
   "metadata": {},
   "outputs": [],
   "source": []
  },
  {
   "cell_type": "markdown",
   "metadata": {},
   "source": [
    ".\tWildcard, matches any character\n",
    "^abc\tMatches some pattern abc at the start of a string\n",
    "abc$\tMatches some pattern abc at the end of a string\n",
    "[abc]\tMatches one of a set of characters\n",
    "[A-Z0-9]\tMatches one of a range of characters\n",
    "ed|ing|s\tMatches one of the specified strings (disjunction)\n",
    "*\tZero or more of previous item, e.g. a*, [a-z]* (also known as Kleene Closure)\n",
    "+\tOne or more of previous item, e.g. a+, [a-z]+\n",
    "?\tZero or one of the previous item (i.e. optional), e.g. a?, [a-z]?\n",
    "{n}\tExactly n repeats where n is a non-negative integer\n",
    "{n,}\tAt least n repeats\n",
    "{,n}\tNo more than n repeats\n",
    "{m,n}\tAt least m and no more than n repeats\n",
    "a(b|c)+\tParentheses that indicate the scope of the operators"
   ]
  }
 ],
 "metadata": {
  "kernelspec": {
   "display_name": "Python 3",
   "language": "python",
   "name": "python3"
  },
  "language_info": {
   "codemirror_mode": {
    "name": "ipython",
    "version": 3
   },
   "file_extension": ".py",
   "mimetype": "text/x-python",
   "name": "python",
   "nbconvert_exporter": "python",
   "pygments_lexer": "ipython3",
   "version": "3.6.5"
  }
 },
 "nbformat": 4,
 "nbformat_minor": 2
}
