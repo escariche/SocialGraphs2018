{
 "cells": [
  {
   "cell_type": "markdown",
   "metadata": {},
   "source": [
    "# Words that characterise the parties"
   ]
  },
  {
   "cell_type": "markdown",
   "metadata": {},
   "source": [
    "_Exercise 2_: TF-IDF and the Republican and Democratic parties."
   ]
  },
  {
   "cell_type": "code",
   "execution_count": 1,
   "metadata": {},
   "outputs": [],
   "source": [
    "import urllib\n",
    "import pandas as pd\n",
    "from urllib.parse   import quote\n",
    "from urllib.request import urlopen\n",
    "import codecs\n",
    "\n",
    "cong115 = pd.read_csv('../socialgraphs2018/files/data_US_congress/H115.csv', encoding='utf-8')\n",
    "\n",
    "baseurl = \"http://en.wikipedia.org/w/api.php/?\"\n",
    "action = \"action=query\"\n",
    "content = \"prop=extracts&exlimit=max&explaintext\"\n",
    "rvprop =\"rvprop=timestamp|content\"\n",
    "dataformat = \"format=json\"\n",
    "rvdir = \"rvdir=older\" #sort revisions from newest to oldest\n",
    "start = \"rvend=2000-01-03T00:00:00Z\" #start of my time period\n",
    "end = \"rvstart=2015-01-03T00:00:00Z\" #end of my time period\n",
    "limit = \"rvlimit=1\" #consider only the first revision\n",
    "\n",
    "for wikiPage in cong115['WikiPageName']:\n",
    "    nm = quote(wikiPage, safe='. ')\n",
    "    title = \"titles=%s\"  % nm\n",
    "    #title = quote(\"titles=\", safe='/=_ e')\n",
    "    query = \"%s%s&%s&%s&%s&%s&%s&%s&%s&%s\" % (baseurl, action, title, content,\n",
    "                                          rvprop, dataformat, rvdir, end,\n",
    "                                          start, limit)\n",
    "    #print(title)\n",
    "    #print(query)\n",
    "    html = urlopen(query).read()\n",
    "    with open('../Representatives_NL/115/%s.txt' % wikiPage, 'w+', encoding='utf-8') as f:\n",
    "        f.write(html.decode('utf-8'))\n",
    "        f.close()"
   ]
  },
  {
   "cell_type": "markdown",
   "metadata": {},
   "source": [
    "The exercise.\n",
    "\n",
    "- First, check out the wikipedia page for TF-IDF. Explain in your own words the point of TF-IDF.\n",
    "    - What does TF stand for?\n",
    "        - _Term frequency.\n",
    "    - What does IDF stand for?\n",
    "        - _Inverse document frequency.\n",
    "        \n",
    "_Is the numerical representation of the importance of a word in a corpus. For our interests in text analysis, it's a weighting factor._\n",
    "\n"
   ]
  },
  {
   "cell_type": "code",
   "execution_count": null,
   "metadata": {},
   "outputs": [],
   "source": []
  }
 ],
 "metadata": {
  "kernelspec": {
   "display_name": "Python 3",
   "language": "python",
   "name": "python3"
  },
  "language_info": {
   "codemirror_mode": {
    "name": "ipython",
    "version": 3
   },
   "file_extension": ".py",
   "mimetype": "text/x-python",
   "name": "python",
   "nbconvert_exporter": "python",
   "pygments_lexer": "ipython3",
   "version": "3.6.5"
  }
 },
 "nbformat": 4,
 "nbformat_minor": 2
}
